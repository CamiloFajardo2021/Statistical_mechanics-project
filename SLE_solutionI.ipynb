{
 "cells": [
  {
   "cell_type": "markdown",
   "metadata": {},
   "source": [
    "# **MÉTODO SEBASTIAN**"
   ]
  },
  {
   "cell_type": "code",
   "execution_count": 61,
   "metadata": {},
   "outputs": [
    {
     "data": {
      "text/plain": [
       "[<matplotlib.lines.Line2D at 0x7f4eb597f730>]"
      ]
     },
     "execution_count": 61,
     "metadata": {},
     "output_type": "execute_result"
    },
    {
     "data": {
      "image/png": "[encoded data removed]",
      "text/plain": [
       "<Figure size 432x288 with 1 Axes>"
      ]
     },
     "metadata": {
      "needs_background": "light"
     },
     "output_type": "display_data"
    }
   ],
   "source": [
    "import numpy as np \n",
    "import matplotlib.pyplot as plt\n",
    "\n",
    "def g(zi, z):\n",
    "    gz = zi.real + np.sqrt((z-zi.real)**2 + zi.imag**2)\n",
    "    return gz\n",
    "\n",
    "\n",
    "def lin(x):\n",
    "    return np.sin(x)\n",
    "    \n",
    "def curve_points(fun):\n",
    "    x = np.linspace(0,1.5*np.pi/4,50)\n",
    "    y = fun(x)\n",
    "    z = x + y*1j\n",
    "    return z\n",
    "\n",
    "w0 = curve_points(lin)\n",
    "t = np.zeros(len(w0))\n",
    "w = np.array(w0)\n",
    "points = np.zeros([len(w), len(t)], dtype=np.complex_)\n",
    "\n",
    "for jj in range(1, len(t)):\n",
    "    wi = w[jj]\n",
    "    t[jj]=t[jj-1]+(1/4)*(wi.imag)**2 \n",
    "    for ii in range(len(w)-jj):\n",
    "        w[ii+jj] = g(wi, w[ii+jj])\n",
    "    points[:][jj] = w \n",
    "         \n",
    "            \n",
    "\n",
    "\n",
    "plt.plot(w0.real, w0.imag, '-')\n",
    "#plt.plot(w.real, w.imag, '-o')\n",
    "plt.plot(points[-1].real, points[-1].imag, '-o')\n",
    "plt.grid()\n",
    "\n",
    "\n",
    "############# Inversa #############\n",
    "def f(w1, ud, dt):\n",
    "    fz = ud + np.sqrt((w1-ud)**2 - 4*dt)\n",
    "    return fz\n",
    "\n",
    "\n",
    "tt = np.array(t)\n",
    "u = np.array(w)\n",
    "zz = np.array(u)\n",
    "point_in = np.zeros([len(zz), len(tt)], dtype=np.complex_) \n",
    "\n",
    "for ii in range(len(zz)-1):\n",
    "    for kk in range(ii+1):\n",
    "        dtt = tt[len(tt)-1-ii]-tt[len(tt)-2-ii]\n",
    "        zz[len(zz)-1-kk] = f(zz[len(zz)-1-kk], u[len(tt)-ii-1], dtt)\n",
    "    \n",
    "    point_in[:][ii]=zz\n",
    "    \n",
    "plt.plot(zz.real, zz.imag, 'o' )\n",
    "plt.plot(point_in[20].real, point_in[20].imag, 'o')\n",
    "\n"
   ]
  },
  {
   "cell_type": "markdown",
   "metadata": {},
   "source": [
    "# **MÉTODO JUANES**"
   ]
  },
  {
   "cell_type": "code",
   "execution_count": 8,
   "metadata": {},
   "outputs": [
    {
     "data": {
      "image/png": "[encoded data removed]",
      "text/plain": [
       "<Figure size 432x288 with 1 Axes>"
      ]
     },
     "metadata": {
      "needs_background": "light"
     },
     "output_type": "display_data"
    }
   ],
   "source": [
    "import numpy as np\n",
    "import matplotlib.pyplot as plt\n",
    "\n",
    "#Transformation function\n",
    "g = lambda z_i, chi_i, dt_i: chi_i + np.sqrt((z_i-chi)**2 + 4*dt_i)\n",
    "\n",
    "#Number of complex numbers in the curve\n",
    "N = 15\n",
    "\n",
    "#Function of the imaginary part\n",
    "f = lambda X: X\n",
    "#real and imaginary parts\n",
    "x = np.linspace(0, 10, N)\n",
    "y = f(x)\n",
    "\n",
    "#Inital form of the curve\n",
    "z0 = np.zeros(N, dtype = np.complex_)\n",
    "z0 = x+y*1.j\n",
    "chi = np.zeros(N-1)\n",
    "t = np.zeros(N)\n",
    "\n",
    "#Array that is going to save every iteration of the transformation.\n",
    "w = np.zeros([len(t), N], dtype = np.complex_)\n",
    "w[0,:] = z0\n",
    "\n",
    "#Iteration\n",
    "for i in range(1,len(t)-3):\n",
    "    chi = w[i-1,i].real\n",
    "    dt = (w[i-1,i].imag**2)/4\n",
    "    w[i,i] = chi\n",
    "    for j in range(1,len(z0)):\n",
    "        if i-j >= 0:\n",
    "            w[i,i-j] = w[i-1,i-j]\n",
    "        if i+j <len(z0):\n",
    "            w[i, i+j] = g(w[i-1,i+j], chi, dt)\n",
    "\n",
    "i = 10\n",
    "plt.scatter(w[i].real, w[i].imag)\n",
    "plt.show()"
   ]
  },
  {
   "cell_type": "code",
   "execution_count": 4,
   "metadata": {},
   "outputs": [
    {
     "data": {
      "image/png": "[encoded data removed]",
      "text/plain": [
       "<Figure size 432x288 with 1 Axes>"
      ]
     },
     "metadata": {
      "needs_background": "light"
     },
     "output_type": "display_data"
    }
   ],
   "source": [
    "import numpy as np\n",
    "import matplotlib.pyplot as plt\n",
    "import matplotlib.animation as animation\n",
    "\n",
    "fig, ax = plt.subplots()\n",
    "line, = ax.plot([],[], '-')\n",
    "\n",
    "def animate(i,w):\n",
    "    chi = w[i-1,i].real\n",
    "    dt = (w[i-1,i].imag**2)/4\n",
    "    for j in range(1,len(w[0])-i):\n",
    "            w[i, i+j] = g(w[i-1,i+j], chi, dt)\n",
    "    line.set_ydata(w[i].imag)\n",
    "    line.set_xdata(w[0].real)\n",
    "    return line,\n",
    "\n",
    "\n",
    "ani = animation.FuncAnimation(fig, animate, fargs = (w,))\n"
   ]
  }
 ],
 "metadata": {
  "kernelspec": {
   "display_name": "Python 3",
   "language": "python",
   "name": "python3"
  },
  "language_info": {
   "codemirror_mode": {
    "name": "ipython",
    "version": 3
   },
   "file_extension": ".py",
   "mimetype": "text/x-python",
   "name": "python",
   "nbconvert_exporter": "python",
   "pygments_lexer": "ipython3",
   "version": "3.8.5"
  }
 },
 "nbformat": 4,
 "nbformat_minor": 4
}
