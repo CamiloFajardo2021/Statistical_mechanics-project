{
 "cells": [
  {
   "cell_type": "code",
   "execution_count": 93,
   "metadata": {},
   "outputs": [
    {
     "data": {
      "text/plain": [
       "[<matplotlib.lines.Line2D at 0x7f1707ed6970>]"
      ]
     },
     "execution_count": 93,
     "metadata": {},
     "output_type": "execute_result"
    },
    {
     "data": {
      "image/png": "[encoded data removed]",
      "text/plain": [
       "<Figure size 432x288 with 1 Axes>"
      ]
     },
     "metadata": {
      "needs_background": "light"
     },
     "output_type": "display_data"
    }
   ],
   "source": [
    "import numpy as np \n",
    "import matplotlib.pyplot as plt\n",
    "\n",
    "def g(zi, z):\n",
    "    gz = zi.real + np.sqrt((z-zi.real)**2 + zi.imag**2)\n",
    "    return gz\n",
    "\n",
    "\n",
    "def lin(x):\n",
    "    return x\n",
    "    \n",
    "def curve_points(fun):\n",
    "    x = np.linspace(0,5,6)\n",
    "    y = fun(x)\n",
    "    z = x + y*1j\n",
    "    return z\n",
    "\n",
    "w0 = curve_points(lin)\n",
    "t = np.zeros(len(w0))\n",
    "w = curve_points(lin)\n",
    "\n",
    "for jj in range(1, 3):\n",
    "    wi = w[jj]\n",
    "    t[jj]=t[jj-1]+(1/4)*(wi.imag)**2\n",
    "    for i in range(len(w)-jj):\n",
    "        w[i+jj] = g(wi, w[i+jj])\n",
    "        \n",
    "\n",
    "\n",
    "plt.plot(w0.real, w0.imag, '-o')\n",
    "plt.plot(w.real, w.imag, '-o')\n",
    "plt.grid()\n",
    "\n",
    "\n",
    "################################################## Inversa ###\n",
    "def f(w1, ud, dt):\n",
    "    fz = ud + np.sqrt((w1-ud)**2 - 4*dt)\n",
    "    return fz\n",
    "#print(w)\n",
    "tt = t\n",
    "u = np.array(w)\n",
    "zz = np.array(u)\n",
    "\n",
    "\n",
    "for ii in range(len(zz)-2):\n",
    "    for kk in range(2):\n",
    "        dtt = t[2-kk]-t[2-kk-1]\n",
    "        zz[ii+2-kk] = f(zz[ii+2-kk], u[2-kk], dtt)\n",
    "        \n",
    "plt.plot(zz.real, zz.imag, '-o' )\n",
    "\n"
   ]
  },
  {
   "cell_type": "code",
   "execution_count": null,
   "metadata": {},
   "outputs": [],
   "source": []
  }
 ],
 "metadata": {
  "kernelspec": {
   "display_name": "Python 3",
   "language": "python",
   "name": "python3"
  },
  "language_info": {
   "codemirror_mode": {
    "name": "ipython",
    "version": 3
   },
   "file_extension": ".py",
   "mimetype": "text/x-python",
   "name": "python",
   "nbconvert_exporter": "python",
   "pygments_lexer": "ipython3",
   "version": "3.8.10"
  }
 },
 "nbformat": 4,
 "nbformat_minor": 4
}
