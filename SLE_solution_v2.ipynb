{
 "cells": [
  {
   "cell_type": "markdown",
   "metadata": {},
   "source": [
    "# **Solución de la ecuación de Loewner**"
   ]
  },
  {
   "cell_type": "code",
   "execution_count": 48,
   "metadata": {},
   "outputs": [
    {
     "data": {
      "image/png": "[encoded data removed]",
      "text/plain": [
       "<Figure size 432x288 with 1 Axes>"
      ]
     },
     "metadata": {
      "needs_background": "light"
     },
     "output_type": "display_data"
    },
    {
     "data": {
      "image/png": "[encoded data removed]",
      "text/plain": [
       "<Figure size 432x288 with 1 Axes>"
      ]
     },
     "metadata": {
      "needs_background": "light"
     },
     "output_type": "display_data"
    }
   ],
   "source": [
    "import numpy as np \n",
    "from matplotlib import animation\n",
    "import matplotlib.pyplot as plt\n",
    "from cmath import sqrt\n",
    "\n",
    "#Animation function\n",
    "def animate_vid(p, filename):\n",
    "    fig, ax = plt.subplots()\n",
    "    ims = []\n",
    "    n = len(p[0])\n",
    "    for j in range(len(p)):\n",
    "        for i in range(len(t)):\n",
    "            if j == 1 and i==49:\n",
    "                1\n",
    "            else:\n",
    "                im, = ax.plot(p[j][i].real, p[j][i].imag, \"k-\")\n",
    "                ims.append([im])\n",
    "        ax.plot(p[1][n-2].real, p[1][n-2].imag, \"g--\")\n",
    "        ax.plot(p[0][n-1].real, p[0][n-1].imag, \"r--\")\n",
    "        ani = animation.ArtistAnimation(fig, ims, interval = 1, blit = True, repeat_delay = 0)\n",
    "        ani.save(filename)\n",
    "\n",
    "#transformation function\n",
    "g = lambda zi, z: zi.real + np.sqrt((z-zi.real)**2 + zi.imag**2)\n",
    "#function to be used in the initialization of the curve evolution\n",
    "lin = lambda x: np.sin(x)\n",
    "#initialization of the curve\n",
    "def curve_points(fun):\n",
    "    x = np.linspace(0,1.5*np.pi/4,50)\n",
    "    y = fun(x)\n",
    "    z = x + y*1j\n",
    "    return z\n",
    "\n",
    "w0 = curve_points(lin)\n",
    "t = np.zeros(len(w0))\n",
    "w = np.array(w0)\n",
    "points = np.zeros([len(w), len(t)], dtype=np.complex_)\n",
    "\n",
    "for jj in range(1, len(t)):\n",
    "    wi = w[jj]\n",
    "    t[jj]=t[jj-1]+(1/4)*(wi.imag)**2 \n",
    "    for ii in range(len(w)-jj):\n",
    "        w[ii+jj] = g(wi, w[ii+jj])\n",
    "    points[:][jj] = w \n",
    "         \n",
    "            \n",
    "\n",
    "\n",
    "plt.plot(w0.real, w0.imag, '-')\n",
    "#plt.plot(w.real, w.imag, '-o')\n",
    "plt.plot(points[-1].real, points[-1].imag, '-o')\n",
    "plt.grid()\n",
    "\n",
    "\n",
    "############# Inverse #############\n",
    "def f(w1, ud, dt):\n",
    "    fz = ud + sqrt((w1-ud)**2 - 4*dt)\n",
    "    return fz\n",
    "\n",
    "\n",
    "tt = np.array(t)\n",
    "u = np.array(w)\n",
    "zz = np.array(u)\n",
    "point_in = np.zeros([len(zz), len(tt)], dtype=np.complex_) \n",
    "\n",
    "for ii in range(len(w)-1):\n",
    "    for kk in range(ii+1):\n",
    "        dtt = tt[len(tt)-1-ii]-tt[len(tt)-2-ii]\n",
    "        zz[len(zz)-1-kk] = f(zz[len(zz)-1-kk], u[len(tt)-ii-1], dtt)\n",
    "    \n",
    "    point_in[:][ii]=zz\n",
    "\n",
    "all_points = [points, point_in]\n",
    "plt.plot(zz.real, zz.imag, 'o' )\n",
    "plt.plot(all_points[1][30].real, all_points[1][30].imag, 'o')\n",
    "\n",
    "\n",
    "animate_vid(all_points, \"SLE_evolution.gif\")\n"
   ]
  },
  {
   "cell_type": "markdown",
   "metadata": {},
   "source": [
    "## **MOVIMIENTO BROWNIANO**"
   ]
  },
  {
   "cell_type": "code",
   "execution_count": 101,
   "metadata": {},
   "outputs": [
    {
     "data": {
      "text/plain": [
       "[<matplotlib.lines.Line2D at 0x7f7ca8e62a00>]"
      ]
     },
     "execution_count": 101,
     "metadata": {},
     "output_type": "execute_result"
    },
    {
     "data": {
      "image/png": "[encoded data removed]",
      "text/plain": [
       "<Figure size 432x288 with 1 Axes>"
      ]
     },
     "metadata": {
      "needs_background": "light"
     },
     "output_type": "display_data"
    }
   ],
   "source": [
    "np.random.seed(25)\n",
    "\n",
    "#Uniform distribution\n",
    "N = 100\n",
    "U = np.zeros(N)\n",
    "for i in range(1, N):\n",
    "    step = 0\n",
    "    while step == 0:\n",
    "        step = np.random.randint(-1,2)\n",
    "        U[i] = U[i-1] + step\n",
    "\n",
    "        \n",
    "point_in = np.zeros(N)\n",
    "t = np.arange(0, N)\n",
    "z = np.zeros(N, dtype = np.complex_)\n",
    "for i in range(N):\n",
    "    z[i] = i+0*1.j\n",
    "point_in = np.zeros([len(z), len(t)], dtype=np.complex_) \n",
    "\n",
    "for i in range(N-1):\n",
    "    for k in range(i+1):\n",
    "        dt = t[len(t)-1-i]-t[len(t)-2-i]\n",
    "        z[len(z)-1-k] = f(z[len(z)-1-k], U[len(t)-i-1], dt)\n",
    "    \n",
    "    point_in[:][i]=z\n",
    "\n",
    "i =60\n",
    "plt.plot(z.real, z.imag, 'or' )\n",
    "plt.plot(point_in[i].real, point_in[i].imag, 'og')"
   ]
  },
  {
   "cell_type": "code",
   "execution_count": 96,
   "metadata": {},
   "outputs": [
    {
     "data": {
      "image/png": "[encoded data removed]",
      "text/plain": [
       "<Figure size 432x288 with 1 Axes>"
      ]
     },
     "metadata": {
      "needs_background": "light"
     },
     "output_type": "display_data"
    }
   ],
   "source": [
    "def animate_vid(p, filename):\n",
    "    fig, ax = plt.subplots()\n",
    "    ims = []\n",
    "    for i in range(len(p)):\n",
    "        if i==0:\n",
    "            1\n",
    "        else:\n",
    "            im, = ax.plot(p[i].real, p[i].imag, \"k-\")\n",
    "            ims.append([im])\n",
    "    ax.plot(p[0].real, p[0].imag, \"g--\")\n",
    "    ani = animation.ArtistAnimation(fig, ims, interval = 1, blit = True, repeat_delay = 0)\n",
    "    ani.save(filename)\n",
    "    \n",
    "animate_vid(point_in, \"SLE_evolution.gif\")\n",
    "    "
   ]
  },
  {
   "cell_type": "markdown",
   "metadata": {},
   "source": [
    "### Pruebas de animación"
   ]
  },
  {
   "cell_type": "code",
   "execution_count": 5,
   "metadata": {},
   "outputs": [
    {
     "name": "stdout",
     "output_type": "stream",
     "text": [
      "[1.33551576 0.32305442]\n"
     ]
    },
    {
     "data": {
      "image/png": "[encoded data removed]",
      "text/plain": [
       "<Figure size 432x288 with 1 Axes>"
      ]
     },
     "metadata": {
      "needs_background": "light"
     },
     "output_type": "display_data"
    },
    {
     "data": {
      "image/png": "[encoded data removed]",
      "text/plain": [
       "<Figure size 432x288 with 1 Axes>"
      ]
     },
     "metadata": {
      "needs_background": "light"
     },
     "output_type": "display_data"
    }
   ],
   "source": [
    "import numpy as np\n",
    "import matplotlib\n",
    "# matplotlib.use(\"Agg\") # You can uncomment this line to have a totally non-gui experience - useful for webserver use where the file is rendered and shown to a user.\n",
    "import matplotlib.pyplot as plt\n",
    "from matplotlib.animation import FFMpegWriter, PillowWriter\n",
    "\n",
    "# To make sure your example looks like mine, set the random seed. Helps with fine tuning the graph too.\n",
    "np.random.seed(102434201)\n",
    "\n",
    "metadata = dict(title='Movie', artist='codinglikemad')\n",
    "# writer = PillowWriter(fps=15, metadata=metadata)\n",
    "writer = FFMpegWriter(fps=15, metadata=metadata)\n",
    "\n",
    "fig = plt.figure()\n",
    "plt.xlim(-8, 8)\n",
    "plt.ylim(-8, 8)\n",
    "\n",
    "# Generate some random linear data to fit:\n",
    "def func(x):\n",
    "    return x*1.2 + 0.1 + np.random.normal(0,2, x.shape)\n",
    "\n",
    "x = np.random.uniform(-7,7,10)\n",
    "x = np.sort(x) # Sort the x values here so we get a nice left to right progression in the animation\n",
    "y = func(x)\n",
    "\n",
    "coeff = np.polyfit(x,y,1)\n",
    "print(coeff)\n",
    "xline = np.linspace(-6,6,40) # This controls how long the animation takes below.\n",
    "yline = np.polyval(coeff, xline)\n",
    "\n",
    "lPnt, = plt.plot(x, y, 'o')\n",
    "l, = plt.plot(xline, yline, 'k-', linewidth=3)\n",
    "\n",
    "plt.show()\n",
    "# You need to close the figure for the 2nd half of the script to run - remove the plotting above if you want to generate without intervention.\n",
    "\n",
    "\n",
    "fig = plt.figure()\n",
    "plt.xlim(-10, 10)\n",
    "plt.ylim(-10, 10)\n",
    "\n",
    "lPnt, = plt.plot([], [], 'o')\n",
    "l, = plt.plot([], [], 'k-', linewidth=3)\n",
    "\n",
    "xLineList = []\n",
    "yLineList = []\n",
    "\n",
    "xPntList = []\n",
    "yPntList = []\n",
    "\n",
    "# We generate each plot sequentially here\n",
    "with writer.saving(fig, \"fitPlot.gif\", 100):\n",
    "\n",
    "    # First show the data points\n",
    "    for xval,yval in zip(x,y):\n",
    "\n",
    "        xPntList.append(xval)\n",
    "        yPntList.append(yval)\n",
    "\n",
    "        lPnt.set_data(xPntList,yPntList)\n",
    "        l.set_data(xLineList,yLineList)\n",
    "\n",
    "        # Double up the frames to slow things down a bit here.\n",
    "        writer.grab_frame()\n",
    "        writer.grab_frame()\n",
    "\n",
    "    # Add the line fit\n",
    "    for xval,yval in zip(xline,xline):\n",
    "\n",
    "        xLineList.append(xval)\n",
    "        yLineList.append(yval)\n",
    "\n",
    "        lPnt.set_data(xPntList,yPntList)\n",
    "        l.set_data(xLineList,yLineList)\n",
    "\n",
    "        writer.grab_frame()\n",
    "\n",
    "    # We pad at the end to create some \"pauseing space\"\n",
    "    for ii in range(10):\n",
    "        writer.grab_frame()"
   ]
  }
 ],
 "metadata": {
  "kernelspec": {
   "display_name": "Python 3",
   "language": "python",
   "name": "python3"
  },
  "language_info": {
   "codemirror_mode": {
    "name": "ipython",
    "version": 3
   },
   "file_extension": ".py",
   "mimetype": "text/x-python",
   "name": "python",
   "nbconvert_exporter": "python",
   "pygments_lexer": "ipython3",
   "version": "3.8.5"
  }
 },
 "nbformat": 4,
 "nbformat_minor": 4
}
